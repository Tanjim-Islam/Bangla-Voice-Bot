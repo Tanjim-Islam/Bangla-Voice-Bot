{
 "cells": [
  {
   "cell_type": "markdown",
   "metadata": {},
   "source": [
    "<div style=\"text-align: center;\">\n",
    "    <span style=\"font-size:50px;\"><b>Speech to Text</b></span>\n",
    "</div>\n"
   ]
  },
  {
   "cell_type": "markdown",
   "metadata": {},
   "source": [
    "# **Load Dependencies**"
   ]
  },
  {
   "cell_type": "code",
   "execution_count": 1,
   "metadata": {},
   "outputs": [],
   "source": [
    "import os\n",
    "import pandas as pd\n",
    "import librosa\n",
    "import numpy as np\n",
    "import IPython.display as ipd\n",
    "import torchaudio\n",
    "import librosa.display\n",
    "import matplotlib.pyplot as plt\n",
    "import random\n",
    "import string\n",
    "import nltk\n",
    "from nltk.tokenize import word_tokenize\n",
    "from nltk.corpus import stopwords\n",
    "from nltk.stem import PorterStemmer\n",
    "from collections import Counter\n",
    "from sklearn.feature_extraction.text import CountVectorizer\n",
    "from sklearn.decomposition import LatentDirichletAllocation\n",
    "from gensim import models"
   ]
  },
  {
   "cell_type": "markdown",
   "metadata": {},
   "source": [
    "# **Load Data**"
   ]
  },
  {
   "cell_type": "code",
   "execution_count": 2,
   "metadata": {},
   "outputs": [
    {
     "data": {
      "text/html": [
       "<div>\n",
       "<style scoped>\n",
       "    .dataframe tbody tr th:only-of-type {\n",
       "        vertical-align: middle;\n",
       "    }\n",
       "\n",
       "    .dataframe tbody tr th {\n",
       "        vertical-align: top;\n",
       "    }\n",
       "\n",
       "    .dataframe thead th {\n",
       "        text-align: right;\n",
       "    }\n",
       "</style>\n",
       "<table border=\"1\" class=\"dataframe\">\n",
       "  <thead>\n",
       "    <tr style=\"text-align: right;\">\n",
       "      <th></th>\n",
       "      <th>id</th>\n",
       "      <th>sentence</th>\n",
       "      <th>split</th>\n",
       "    </tr>\n",
       "  </thead>\n",
       "  <tbody>\n",
       "    <tr>\n",
       "      <th>0</th>\n",
       "      <td>000005f3362c</td>\n",
       "      <td>ও বলেছে আপনার ঠিকানা!</td>\n",
       "      <td>train</td>\n",
       "    </tr>\n",
       "    <tr>\n",
       "      <th>1</th>\n",
       "      <td>00001dddd002</td>\n",
       "      <td>কোন মহান রাষ্ট্রের নাগরিক হতে চাও?</td>\n",
       "      <td>train</td>\n",
       "    </tr>\n",
       "    <tr>\n",
       "      <th>2</th>\n",
       "      <td>00001e0bc131</td>\n",
       "      <td>আমি তোমার কষ্টটা বুঝছি, কিন্তু এটা সঠিক পথ না।</td>\n",
       "      <td>train</td>\n",
       "    </tr>\n",
       "    <tr>\n",
       "      <th>3</th>\n",
       "      <td>000024b3d810</td>\n",
       "      <td>নাচ শেষ হওয়ার পর সকলে শরীর ধুয়ে একসঙ্গে ভোজন...</td>\n",
       "      <td>train</td>\n",
       "    </tr>\n",
       "    <tr>\n",
       "      <th>4</th>\n",
       "      <td>000028220ab3</td>\n",
       "      <td>হুমম, ওহ হেই, দেখো।</td>\n",
       "      <td>train</td>\n",
       "    </tr>\n",
       "  </tbody>\n",
       "</table>\n",
       "</div>"
      ],
      "text/plain": [
       "             id                                           sentence  split\n",
       "0  000005f3362c                              ও বলেছে আপনার ঠিকানা!  train\n",
       "1  00001dddd002                 কোন মহান রাষ্ট্রের নাগরিক হতে চাও?  train\n",
       "2  00001e0bc131     আমি তোমার কষ্টটা বুঝছি, কিন্তু এটা সঠিক পথ না।  train\n",
       "3  000024b3d810  নাচ শেষ হওয়ার পর সকলে শরীর ধুয়ে একসঙ্গে ভোজন...  train\n",
       "4  000028220ab3                                হুমম, ওহ হেই, দেখো।  train"
      ]
     },
     "metadata": {},
     "output_type": "display_data"
    }
   ],
   "source": [
    "# Define the paths to the data directories\n",
    "BASE_DIR = 'E:\\Studies\\\\11th Semester\\\\425\\\\Project\\\\Dataset\\\\bengaliai-speech'\n",
    "train_data_dir = f\"{BASE_DIR}/train_mp3s/\"  \n",
    "test_data_dir = f\"{BASE_DIR}/test_mp3s/\" \n",
    "train_csv_path = f\"{BASE_DIR}/train.csv\" \n",
    "domains = f\"{BASE_DIR}/examples/\" \n",
    "\n",
    "path_template = \"E:\\Studies\\\\11th Semester\\\\425\\\\Project\\\\Dataset\\\\bengaliai-speech\\\\train_mp3s\\\\{}.mp3\"\n",
    "\n",
    "# Load the train.csv file using pandas\n",
    "train_df = pd.read_csv(train_csv_path)\n",
    "\n",
    "# Preview the first few rows of the DataFrame\n",
    "display(train_df.head())\n",
    "\n",
    "DOMAINS = os.listdir(f'{BASE_DIR}/examples')"
   ]
  },
  {
   "cell_type": "markdown",
   "metadata": {},
   "source": [
    "# **Summary**"
   ]
  },
  {
   "cell_type": "code",
   "execution_count": 3,
   "metadata": {},
   "outputs": [
    {
     "name": "stdout",
     "output_type": "stream",
     "text": [
      "Audio data shape: (5,)\n",
      "Transcriptions shape: (5,)\n"
     ]
    }
   ],
   "source": [
    "# Load audio files and corresponding transcriptions\n",
    "audio_data = []  # List to store audio data\n",
    "transcriptions = []  # List to store corresponding transcriptions\n",
    "\n",
    "for idx, row in train_df.head(5).iterrows():\n",
    "    audio_file_path = path_template.format(row['id'])\n",
    "\n",
    "    # Load the audio file using librosa\n",
    "    audio, sr = librosa.load(audio_file_path, sr=None)\n",
    "\n",
    "    # Append audio data and transcription to lists\n",
    "    audio_data.append(audio)\n",
    "    transcriptions.append(row['sentence'])\n",
    "    \n",
    "audio_data = np.array(audio_data,dtype = 'object')\n",
    "transcriptions = np.array(transcriptions,dtype = 'object')\n",
    "\n",
    "# Check the shapes of the loaded data\n",
    "print(\"Audio data shape:\", audio_data.shape)\n",
    "print(\"Transcriptions shape:\", transcriptions.shape)\n"
   ]
  },
  {
   "cell_type": "code",
   "execution_count": 4,
   "metadata": {},
   "outputs": [
    {
     "name": "stdout",
     "output_type": "stream",
     "text": [
      "Data Summary:\n",
      "Total number of audio files in the training directory: 963636\n",
      "Total number of audio files in the test directory: 3\n",
      "Total number of samples in the training data: 963636\n"
     ]
    }
   ],
   "source": [
    "# Get the total number of audio files in the training and test directories\n",
    "train_audio_files = os.listdir(train_data_dir)\n",
    "test_audio_files = os.listdir(test_data_dir)\n",
    "\n",
    "# Get the total duration of audio data in the training set (in seconds)\n",
    "train_total_duration = 0\n",
    "SAMPLES_TAKEN = 10000\n",
    "for idx, row in train_df.head(SAMPLES_TAKEN).iterrows():\n",
    "    audio_file_path = path_template.format(row['id'])\n",
    "\n",
    "test_duration = 0\n",
    "for test_file in test_audio_files:\n",
    "    audio_file_path = os.path.join(test_data_dir, str(test_file))\n",
    "    \n",
    "# Get the total number of samples in the training data\n",
    "total_samples = train_df.shape[0]\n",
    "\n",
    "# Print the data summary\n",
    "print(\"Data Summary:\")\n",
    "print(f\"Total number of audio files in the training directory: {len(train_audio_files)}\")\n",
    "print(f\"Total number of audio files in the test directory: {len(test_audio_files)}\")\n",
    "print(f\"Total number of samples in the training data: {total_samples}\")"
   ]
  },
  {
   "cell_type": "markdown",
   "metadata": {},
   "source": [
    "# **Listen**"
   ]
  },
  {
   "cell_type": "code",
   "execution_count": null,
   "metadata": {},
   "outputs": [],
   "source": [
    "random_indices = [0, 10, 20, 30, 40]\n",
    "\n",
    "for idx in random_indices:\n",
    "    row = train_df.iloc[idx]\n",
    "    audio_file_path = path_template.format(row['id'])\n",
    "\n",
    "    # Load the audio file using librosa\n",
    "    audio, sr = librosa.load(audio_file_path, sr=None)\n",
    "\n",
    "    # Print the transcription and play the audio\n",
    "    print(\"Transcription:\", row['sentence'])\n",
    "    ipd.display(ipd.Audio(audio, rate=sr))"
   ]
  },
  {
   "cell_type": "code",
   "execution_count": null,
   "metadata": {},
   "outputs": [],
   "source": [
    "for test_file in test_audio_files:\n",
    "    audio_file_path = os.path.join(test_data_dir, str(test_file))\n",
    "    \n",
    "    # Load the audio file using librosa\n",
    "    audio, sr = librosa.load(audio_file_path, sr=None)\n",
    "    ipd.display(ipd.Audio(audio, rate=sr))"
   ]
  },
  {
   "cell_type": "markdown",
   "metadata": {},
   "source": [
    "# **Visualization**"
   ]
  },
  {
   "cell_type": "code",
   "execution_count": 7,
   "metadata": {},
   "outputs": [
    {
     "data": {
      "image/png": "[encoded data removed]",
      "text/plain": [
       "<Figure size 1000x600 with 1 Axes>"
      ]
     },
     "metadata": {},
     "output_type": "display_data"
    }
   ],
   "source": [
    "domain_counts = train_df['split'].value_counts()\n",
    "\n",
    "# Plot the data distribution\n",
    "plt.figure(figsize=(10, 6))\n",
    "domain_counts.plot(kind='bar', color='skyblue')\n",
    "plt.title(\"Data Distribution Across Domains\")\n",
    "plt.xlabel(\"Domain\")\n",
    "plt.ylabel(\"Number of Recordings\")\n",
    "plt.xticks(rotation=45, ha='right')\n",
    "plt.tight_layout()\n",
    "plt.show()"
   ]
  },
  {
   "cell_type": "code",
   "execution_count": null,
   "metadata": {},
   "outputs": [],
   "source": [
    "for idx in random_indices:\n",
    "    row = train_df.iloc[idx]\n",
    "    audio_file_path = os.path.join(train_data_dir, f\"{row['id']}.mp3\")\n",
    "\n",
    "    # Load the audio file using librosa\n",
    "    audio, sr = librosa.load(audio_file_path, sr=None)\n",
    "\n",
    "    # Plot the waveform\n",
    "    plt.figure(figsize=(10, 4))\n",
    "    plt.plot(audio)\n",
    "    plt.title(f\"Waveform - Audio File ID: {row['id']}\")\n",
    "    plt.xlabel(\"Time (samples)\")\n",
    "    plt.ylabel(\"Amplitude\")\n",
    "    plt.tight_layout()\n",
    "    plt.show()\n",
    "\n",
    "    # Plot the log Mel spectrogram\n",
    "    plt.figure(figsize=(10, 4))\n",
    "    mel_spec = librosa.feature.melspectrogram(y=audio, sr=sr)\n",
    "    mel_spec_db = librosa.power_to_db(mel_spec, ref=np.max)\n",
    "    librosa.display.specshow(mel_spec_db, sr=sr, x_axis='time', y_axis='mel')\n",
    "    plt.colorbar(format='%+2.0f dB')\n",
    "    plt.title(f\"Log Mel Spectrogram - Audio File ID: {row['id']}\")\n",
    "    plt.xlabel(\"Time (s)\")\n",
    "    plt.ylabel(\"Mel Frequency\")\n",
    "    plt.tight_layout()\n",
    "    plt.show()"
   ]
  },
  {
   "cell_type": "markdown",
   "metadata": {},
   "source": [
    "# **Text Preprocessing**"
   ]
  },
  {
   "cell_type": "code",
   "execution_count": null,
   "metadata": {},
   "outputs": [],
   "source": [
    "# Select the first 5 transcriptions\n",
    "transcriptions = train_df['sentence'][:5].tolist()\n",
    "\n",
    "# Convert transcriptions to lowercase\n",
    "transcriptions_lower = [transcription.lower() for transcription in transcriptions]\n",
    "\n",
    "# Remove punctuation\n",
    "translator = str.maketrans(\"\", \"\", string.punctuation)\n",
    "transcriptions_no_punct = [transcription.translate(translator) for transcription in transcriptions_lower]\n",
    "\n",
    "# Tokenization\n",
    "nltk.download('punkt')  \n",
    "transcriptions_tokens = [word_tokenize(transcription) for transcription in transcriptions_no_punct]\n",
    "\n",
    "\n",
    "nltk.download('stopwords')  \n",
    "stop_words = set(stopwords.words('bengali'))\n",
    "transcriptions_no_stopwords = [\n",
    "    [word for word in tokens if word not in stop_words]\n",
    "    for tokens in transcriptions_tokens\n",
    "]\n",
    "\n",
    "nltk.download('wordnet')  \n",
    "stemmer = PorterStemmer()\n",
    "transcriptions_stemmed = [\n",
    "    [stemmer.stem(word) for word in tokens]\n",
    "    for tokens in transcriptions_no_stopwords\n",
    "]\n",
    "\n",
    "# Print the preprocessed transcriptions\n",
    "for i, transcription in enumerate(transcriptions_stemmed):\n",
    "    print(f\"Preprocessed transcription {i+1}: {' '.join(transcription)}\")\n"
   ]
  },
  {
   "cell_type": "code",
   "execution_count": null,
   "metadata": {},
   "outputs": [],
   "source": [
    "# Select the first 100 transcriptions \n",
    "transcriptions = train_df['sentence'].tolist()\n",
    "\n",
    "# Tokenization\n",
    "nltk.download('punkt')  # Download the Punkt tokenizer\n",
    "transcriptions_tokens = [word_tokenize(transcription) for transcription in transcriptions]\n",
    "\n",
    "# Print the tokenized transcriptions\n",
    "for i, transcription_tokens in enumerate(transcriptions_tokens):\n",
    "    if i%100000 == 0:\n",
    "        print(f\"Tokenized transcription {i+1}: {transcription_tokens}\")"
   ]
  },
  {
   "cell_type": "markdown",
   "metadata": {},
   "source": [
    "# **Vocab Analysis**"
   ]
  },
  {
   "cell_type": "code",
   "execution_count": 11,
   "metadata": {},
   "outputs": [
    {
     "name": "stdout",
     "output_type": "stream",
     "text": [
      "Vocabulary Size: 204457\n"
     ]
    }
   ],
   "source": [
    "# Build vocabulary\n",
    "vocabulary = set()\n",
    "for transcription_tokens in transcriptions_tokens:\n",
    "    vocabulary.update(transcription_tokens)\n",
    "\n",
    "# print(\"Vocabulary:\")\n",
    "# print(vocabulary)\n",
    "print(f\"Vocabulary Size: {len(vocabulary)}\")"
   ]
  },
  {
   "cell_type": "markdown",
   "metadata": {},
   "source": [
    "# **Sentence Length Analysis**"
   ]
  },
  {
   "cell_type": "code",
   "execution_count": 12,
   "metadata": {},
   "outputs": [
    {
     "data": {
      "text/plain": [
       "(array([1.46812e+05, 3.01428e+05, 2.76002e+05, 1.89254e+05, 3.83470e+04,\n",
       "        1.00420e+04, 1.62200e+03, 1.13000e+02, 1.10000e+01, 5.00000e+00]),\n",
       " array([  2. ,  25.1,  48.2,  71.3,  94.4, 117.5, 140.6, 163.7, 186.8,\n",
       "        209.9, 233. ]),\n",
       " <BarContainer object of 10 artists>)"
      ]
     },
     "execution_count": 12,
     "metadata": {},
     "output_type": "execute_result"
    },
    {
     "data": {
      "image/png": "[encoded data removed]",
      "text/plain": [
       "<Figure size 640x480 with 1 Axes>"
      ]
     },
     "metadata": {},
     "output_type": "display_data"
    }
   ],
   "source": [
    "lens = train_df.sentence.apply(lambda x: len(x))\n",
    "plt.hist(lens)"
   ]
  },
  {
   "cell_type": "code",
   "execution_count": null,
   "metadata": {},
   "outputs": [],
   "source": [
    "# Compute descriptive statistics\n",
    "sentence_lengths = [len(tokens) for tokens in transcriptions_tokens]\n",
    "min_length = min(sentence_lengths)\n",
    "max_length = max(sentence_lengths)\n",
    "mean_length = sum(sentence_lengths) / len(sentence_lengths)\n",
    "median_length = sorted(sentence_lengths)[len(sentence_lengths) // 2]\n",
    "\n",
    "# Plot the distribution of sentence lengths\n",
    "plt.figure(figsize=(10, 6))\n",
    "plt.hist(sentence_lengths, bins=50, color='skyblue', edgecolor='black')\n",
    "plt.axvline(mean_length, color='red', linestyle='dashed', linewidth=2, label='Mean')\n",
    "plt.axvline(median_length, color='green', linestyle='dashed', linewidth=2, label='Median')\n",
    "plt.xlabel('Sentence Length')\n",
    "plt.ylabel('Frequency')\n",
    "plt.title('Distribution of Sentence Lengths')\n",
    "plt.legend()\n",
    "plt.show()\n",
    "\n",
    "# Print the descriptive statistics\n",
    "print(\"Descriptive Statistics:\")\n",
    "print(f\"Minimum Sentence Length: {min_length}\")\n",
    "print(f\"Maximum Sentence Length: {max_length}\")\n",
    "print(f\"Mean Sentence Length: {mean_length:.2f}\")\n",
    "print(f\"Median Sentence Length: {median_length}\")"
   ]
  },
  {
   "cell_type": "markdown",
   "metadata": {},
   "source": [
    "# **Word Frequency Analysis**"
   ]
  },
  {
   "cell_type": "code",
   "execution_count": null,
   "metadata": {},
   "outputs": [],
   "source": [
    "# Flatten the list of tokens\n",
    "all_tokens = [token for tokens in transcriptions_tokens for token in tokens]\n",
    "\n",
    "# Count word frequency\n",
    "word_frequency = Counter(all_tokens)\n",
    "\n",
    "# Print the word frequency analysis\n",
    "print(\"Word Frequency:\")\n",
    "plt.plot(word_frequency.values())"
   ]
  },
  {
   "cell_type": "code",
   "execution_count": null,
   "metadata": {},
   "outputs": [],
   "source": [
    "# Calculate the number of unique words in each sentence\n",
    "sentences = train_df['sentence'].tolist()\n",
    "unique_word_counts = [len(set(sentence.split())) for sentence in sentences]\n",
    "\n",
    "# Compute descriptive statistics\n",
    "min_unique_words = min(unique_word_counts)\n",
    "max_unique_words = max(unique_word_counts)\n",
    "mean_unique_words = sum(unique_word_counts) / len(unique_word_counts)\n",
    "median_unique_words = sorted(unique_word_counts)[len(unique_word_counts) // 2]\n",
    "\n",
    "# Plot the distribution of unique word counts\n",
    "plt.figure(figsize=(10, 6))\n",
    "plt.hist(unique_word_counts, bins=50, color='lightcoral', edgecolor='black')\n",
    "plt.axvline(mean_unique_words, color='red', linestyle='dashed', linewidth=2, label='Mean')\n",
    "plt.axvline(median_unique_words, color='green', linestyle='dashed', linewidth=2, label='Median')\n",
    "plt.xlabel('Number of Unique Words')\n",
    "plt.ylabel('Frequency')\n",
    "plt.title('Distribution of Unique Words in Transcriptions')\n",
    "plt.legend()\n",
    "plt.show()\n",
    "\n",
    "# Print the descriptive statistics\n",
    "print(\"Descriptive Statistics:\")\n",
    "print(f\"Minimum Number of Unique Words: {min_unique_words}\")\n",
    "print(f\"Maximum Number of Unique Words: {max_unique_words}\")\n",
    "print(f\"Mean Number of Unique Words: {mean_unique_words:.2f}\")\n",
    "print(f\"Median Number of Unique Words: {median_unique_words}\")"
   ]
  },
  {
   "cell_type": "code",
   "execution_count": null,
   "metadata": {},
   "outputs": [],
   "source": [
    "# Select the first 1000 sentences \n",
    "sentences = train_df['sentence'][:10000].tolist()\n",
    "\n",
    "# Tokenization using NLTK\n",
    "nltk.download('punkt')  # Download the Punkt tokenizer\n",
    "sentences_tokens = [word_tokenize(sentence) for sentence in sentences]\n",
    "\n",
    "\n",
    "# Remove Bengali stopwords\n",
    "sentences_no_stopwords = [\n",
    "    [word for word in tokens if word not in stop_words]\n",
    "    for tokens in sentences_tokens\n",
    "]\n",
    "\n",
    "# Convert tokenized sentences back to strings\n",
    "sentences_processed = [' '.join(tokens) for tokens in sentences_no_stopwords]\n",
    "\n",
    "# Create a CountVectorizer to convert text data to a bag-of-words representation\n",
    "vectorizer = CountVectorizer(max_features=1000)\n",
    "X = vectorizer.fit_transform(sentences_processed)\n",
    "\n",
    "# Perform LDA topic modeling\n",
    "n_topics = 10  # Number of topics to discover\n",
    "lda_model = LatentDirichletAllocation(n_components=n_topics, random_state=42)\n",
    "lda_model.fit(X)\n",
    "\n",
    "# Get the top words for each topic\n",
    "feature_names = vectorizer.get_feature_names_out()\n",
    "top_words_per_topic = []\n",
    "for topic_idx, topic in enumerate(lda_model.components_):\n",
    "    top_words = [feature_names[i] for i in topic.argsort()[:-4:-1]]\n",
    "    top_words_per_topic.append(top_words)\n",
    "\n",
    "# Print the top words for each topic\n",
    "for i, top_words in enumerate(top_words_per_topic):\n",
    "    print(f\"Topic {i + 1}: {' '.join(top_words)}\")\n",
    "    "
   ]
  },
  {
   "cell_type": "markdown",
   "metadata": {},
   "source": [
    "# **Domain Analysis**"
   ]
  },
  {
   "cell_type": "code",
   "execution_count": null,
   "metadata": {},
   "outputs": [],
   "source": [
    "for idx in np.arange(5):\n",
    "    audio_file_path = f'{domains}/{DOMAINS[idx]}'\n",
    "\n",
    "    # Load the audio file using librosa\n",
    "    audio, sr = librosa.load(audio_file_path, sr=None)\n",
    "\n",
    "    # Print DOMAIN\n",
    "    print(DOMAINS[idx])\n",
    "    ipd.display(ipd.Audio(audio, rate=sr))"
   ]
  },
  {
   "cell_type": "code",
   "execution_count": null,
   "metadata": {},
   "outputs": [],
   "source": [
    "# Define the list of domains and their corresponding audio files\n",
    "DOMAINS = [\n",
    "    'Audiobook.wav', 'Parliament Session.wav', 'Bangladeshi TV Drama.wav',\n",
    "    'Poem Recital.wav', 'Bengali Advertisement.wav', 'Puthi Literature.wav',\n",
    "    'Cartoon.wav', 'Slang Profanity.mp3', 'Debate.wav', 'Stage Drama Jatra.wav',\n",
    "    'Indian TV Drama.wav', 'Talk Show Interview.wav', 'Movie.wav', 'Telemedicine.mp3',\n",
    "    'News Presentation.wav', 'Waz Islamic Sermon.wav', 'Online Class.wav'\n",
    "]\n",
    "\n",
    "# Visualize the audio files and play them\n",
    "for idx in np.arange(5):\n",
    "    audio_file_path = os.path.join(domains, DOMAINS[idx])\n",
    "\n",
    "    # Load the audio file using librosa\n",
    "    audio, sr = librosa.load(audio_file_path, sr=None)\n",
    "\n",
    "    # Plot the waveform using the basic matplotlib plot function\n",
    "    plt.figure(figsize=(10, 4))\n",
    "    plt.plot(np.linspace(0, len(audio) / sr, num=len(audio)), audio)\n",
    "    plt.title(f'Waveform - {DOMAINS[idx]}')\n",
    "    plt.xlabel('Time (s)')\n",
    "    plt.ylabel('Amplitude')\n",
    "    plt.show()\n",
    "\n",
    "    # Plot the spectrogram\n",
    "    plt.figure(figsize=(10, 4))\n",
    "    D = librosa.amplitude_to_db(np.abs(librosa.stft(audio)), ref=np.max)\n",
    "    librosa.display.specshow(D, sr=sr, x_axis='time', y_axis='linear')\n",
    "    plt.colorbar(format='%+2.0f dB')\n",
    "    plt.title(f'Spectrogram - {DOMAINS[idx]}')\n",
    "    plt.xlabel('Time (s)')\n",
    "    plt.ylabel('Frequency (Hz)')\n",
    "    plt.show()\n",
    "\n",
    "    # Play the audio\n",
    "    print(f\"Audio: {DOMAINS[idx]}\")\n",
    "    ipd.display(ipd.Audio(audio, rate=sr))\n"
   ]
  },
  {
   "cell_type": "markdown",
   "metadata": {},
   "source": [
    "# **Model Building**"
   ]
  },
  {
   "cell_type": "markdown",
   "metadata": {},
   "source": [
    "## **External Package Installation**"
   ]
  },
  {
   "cell_type": "code",
   "execution_count": 19,
   "metadata": {},
   "outputs": [],
   "source": [
    "# # Define your package directory\n",
    "# package_dir = \"E:\\\\Studies\\\\11th Semester\\\\425\\\\Project\\\\Dataset\\\\python packages\"\n",
    "\n",
    "# # Install jiwer\n",
    "# !pip install \"{package_dir}\\\\jiwer\\\\jiwer-2.3.0-py3-none-any.whl\"\n",
    "\n",
    "# # Install bnunicodenormalizer\n",
    "# !pip install \"{package_dir}\\\\normalizer\\\\bnunicodenormalizer-0.0.24.tar.gz\"\n",
    "\n",
    "# # Install pyctcdecode\n",
    "# !pip install \"{package_dir}\\\\pyctcdecode\\\\attrs-22.1.0-py2.py3-none-any.whl\"\n",
    "# !pip install \"{package_dir}\\\\pyctcdecode\\\\exceptiongroup-1.0.0rc9-py3-none-any.whl\"\n",
    "# !pip install \"{package_dir}\\\\pyctcdecode\\\\hypothesis-6.54.4-py3-none-any.whl\"\n",
    "# !pip install \"{package_dir}\\\\pyctcdecode\\\\numpy-1.21.6-cp37-cp37m-manylinux_2_12_x86_64.manylinux2010_x86_64.whl\"\n",
    "# !pip install \"{package_dir}\\\\pyctcdecode\\\\pygtrie-2.5.0.tar.gz\"\n",
    "# !pip install \"{package_dir}\\\\pyctcdecode\\\\sortedcontainers-2.4.0-py2.py3-none-any.whl\"\n",
    "# !pip install \"{package_dir}\\\\pyctcdecode\\\\pyctcdecode-0.4.0-py2.py3-none-any.whl\""
   ]
  },
  {
   "cell_type": "markdown",
   "metadata": {},
   "source": [
    "## **Loading Dependencies**"
   ]
  },
  {
   "cell_type": "code",
   "execution_count": 21,
   "metadata": {},
   "outputs": [
    {
     "name": "stderr",
     "output_type": "stream",
     "text": [
      "c:\\Users\\tanji\\anaconda3\\envs\\425\\lib\\site-packages\\tqdm\\auto.py:21: TqdmWarning: IProgress not found. Please update jupyter and ipywidgets. See https://ipywidgets.readthedocs.io/en/stable/user_install.html\n",
      "  from .autonotebook import tqdm as notebook_tqdm\n"
     ]
    }
   ],
   "source": [
    "import typing as tp  # Typing module for type hints\n",
    "from pathlib import Path  # For working with file paths\n",
    "from functools import partial  # To create partial functions\n",
    "from dataclasses import dataclass, field  # For creating data classes\n",
    "\n",
    "import pandas as pd \n",
    "import pyctcdecode  # For CTC decoding\n",
    "import numpy as np  \n",
    "from tqdm.notebook import tqdm  # For creating progress bars\n",
    "\n",
    "import librosa  # For audio processing\n",
    "\n",
    "import pyctcdecode  # For CTC decoding\n",
    "import kenlm  # For working with KenLM language model\n",
    "import torch  # PyTorch library for machine learning\n",
    "from transformers import Wav2Vec2Processor, Wav2Vec2ProcessorWithLM, Wav2Vec2ForCTC  # For loading and processing Wav2Vec2 models\n",
    "from bnunicodenormalizer import Normalizer  # For Bengali Unicode normalization"
   ]
  },
  {
   "cell_type": "markdown",
   "metadata": {},
   "source": [
    "## **Setting Paths and Parameters**"
   ]
  },
  {
   "cell_type": "code",
   "execution_count": 22,
   "metadata": {},
   "outputs": [],
   "source": [
    "from pathlib import Path\n",
    "\n",
    "# Define paths and parameters for the project\n",
    "DATA = Path(r\"E:\\\\Studies\\\\11th Semester\\\\425\\\\Project\\\\Dataset\\\\bengaliai-speech\")\n",
    "TRAIN = DATA / \"train_mp3s\"\n",
    "TEST = DATA / \"test_mp3s\"\n",
    "SAMPLING_RATE = 16_000\n",
    "MODEL_PATH = Path(r\"E:\\Studies\\\\11th Semester\\\\425\\Project\\\\Dataset\\\\Wav2Vec2\\\\indicwav2vec_v1_bengali\")\n",
    "LM_PATH = Path(r\"E:\\Studies\\\\11th Semeste\\\\425\\\\Project\\\\Dataset\\\\Wav2Vec2\\\\wav2vec2-xls-r-300m-bengali\\\\language_model\")\n"
   ]
  },
  {
   "cell_type": "markdown",
   "metadata": {},
   "source": [
    "## **Loading Speech Recognition Model**"
   ]
  },
  {
   "cell_type": "code",
   "execution_count": null,
   "metadata": {},
   "outputs": [],
   "source": [
    "# Load Wav2Vec2 model and processor\n",
    "model = Wav2Vec2ForCTC.from_pretrained(MODEL_PATH)  # CTC instance\n",
    "# processor will be responsible for handling the audion data\n",
    "processor = Wav2Vec2Processor.from_pretrained(MODEL_PATH)"
   ]
  },
  {
   "cell_type": "code",
   "execution_count": null,
   "metadata": {},
   "outputs": [],
   "source": [
    "# build the vocabulary and a decoder\n",
    "\n",
    "# Get the vocabulary from the model's tokenizer\n",
    "vocab_dict = processor.tokenizer.get_vocab()\n",
    "print('lENGTH OF THE VOCABULARY: ',len(vocab_dict))\n",
    "vocab_dict\n"
   ]
  },
  {
   "cell_type": "markdown",
   "metadata": {},
   "source": [
    "## **Building Vocabulary and CTC Decoder**"
   ]
  },
  {
   "cell_type": "code",
   "execution_count": null,
   "metadata": {},
   "outputs": [],
   "source": [
    "from pathlib import Path\n",
    "\n",
    "# Sort the vocabulary based on token IDs\n",
    "sorted_vocab_dict = {k: v for k, v in sorted(vocab_dict.items(), key=lambda item: item[1])}\n",
    "\n",
    "# Define the language model path\n",
    "LM_PATH = Path(r\"E:\\Studies\\11th Semester\\425\\Project\\Dataset\\Wav2Vec2\\wav2vec2-xls-r-300m-bengali\\language_model\")\n",
    "\n",
    "# Build a CTC decoder using the sorted vocabulary and a language model\n",
    "decoder = pyctcdecode.build_ctcdecoder(\n",
    "    list(sorted_vocab_dict.keys()),  # Vocabulary keys\n",
    "    str(LM_PATH / \"5gram.bin\"),  # Path to the language model file\n",
    ")\n"
   ]
  },
  {
   "cell_type": "markdown",
   "metadata": {},
   "source": [
    "## **Creating Combined Processor for Model Input and Decoding**"
   ]
  },
  {
   "cell_type": "code",
   "execution_count": 27,
   "metadata": {},
   "outputs": [],
   "source": [
    "# Create a combined processor for Wav2Vec2 model input and language model decoding\n",
    "processor_with_lm = Wav2Vec2ProcessorWithLM(\n",
    "    feature_extractor=processor.feature_extractor,  # Feature extractor for audio data\n",
    "    tokenizer=processor.tokenizer,  # Tokenizer for text data\n",
    "    decoder=decoder  # Decoder for converting model output to text\n",
    ")"
   ]
  },
  {
   "cell_type": "markdown",
   "metadata": {},
   "source": [
    "## **Defining a Custom Dataset Class**"
   ]
  },
  {
   "cell_type": "code",
   "execution_count": 28,
   "metadata": {},
   "outputs": [],
   "source": [
    "import torch\n",
    "from torch.utils.data import Dataset\n",
    "\n",
    "class BengaliSRTestDataset(Dataset):\n",
    "    # A custom dataset class for handling Bengali speech test data\n",
    "    \n",
    "    def __init__(self, audio_paths: list[str], sampling_rate: int):\n",
    "        # Constructor to initialize the dataset\n",
    "        \n",
    "        # Store the list of audio file paths\n",
    "        self.audio_paths = audio_paths\n",
    "        \n",
    "        # Store the sampling rate used for audio processing\n",
    "        self.sampling_rate = sampling_rate\n",
    "    \n",
    "    def __len__(self):\n",
    "        # Return the total number of samples in the dataset\n",
    "        return len(self.audio_paths)\n",
    "    \n",
    "    def __getitem__(self, index: int):\n",
    "        # Get a sample from the dataset given an index\n",
    "        \n",
    "        # Get the audio file path corresponding to the index\n",
    "        audio_path = self.audio_paths[index]\n",
    "        \n",
    "        # Get the sampling rate from the dataset settings\n",
    "        sr = self.sampling_rate\n",
    "        \n",
    "        # Load the audio file using librosa, specifying the desired sampling rate\n",
    "        # 'mono=False' indicates to load the audio as a multi-channel signal\n",
    "        # [0] at the end gets the audio signal (the first element of the returned tuple)\n",
    "        audio_signal = librosa.load(audio_path, sr=sr, mono=False)[0]\n",
    "        \n",
    "        # Return the loaded audio signal as the sample\n",
    "        return audio_signal\n"
   ]
  },
  {
   "cell_type": "markdown",
   "metadata": {},
   "source": [
    "## **Creating Test Dataset and DataLoader**"
   ]
  },
  {
   "cell_type": "code",
   "execution_count": 29,
   "metadata": {},
   "outputs": [
    {
     "name": "stdout",
     "output_type": "stream",
     "text": [
      "             id                                           sentence\n",
      "0  0f3dac00655e  এছাড়াও নিউজিল্যান্ড এ ক্রিকেট দলের হয়েও খেলছ...\n",
      "1  a9395e01ad21  এছাড়াও নিউজিল্যান্ড এ ক্রিকেট দলের হয়েও খেলছ...\n",
      "2  bf36ea8b718d  এছাড়াও নিউজিল্যান্ড এ ক্রিকেট দলের হয়েও খেলছ...\n"
     ]
    }
   ],
   "source": [
    "test = pd.read_csv(DATA / \"sample_submission.csv\", dtype={\"id\": str})\n",
    "print(test.head())"
   ]
  },
  {
   "cell_type": "code",
   "execution_count": 30,
   "metadata": {},
   "outputs": [],
   "source": [
    "test_audio_paths = [str(TEST / f\"{aid}.mp3\") for aid in test[\"id\"].values]"
   ]
  },
  {
   "cell_type": "code",
   "execution_count": 31,
   "metadata": {},
   "outputs": [],
   "source": [
    "# Create a dataset for testing using the list of test audio paths and specified sampling rate\n",
    "test_dataset = BengaliSRTestDataset(\n",
    "    test_audio_paths, SAMPLING_RATE\n",
    ")\n",
    "\n",
    "# Define a partial function for collating samples into batches\n",
    "collate_func = partial(\n",
    "    processor_with_lm.feature_extractor,\n",
    "    return_tensors=\"pt\", sampling_rate=SAMPLING_RATE,\n",
    "    padding=True,\n",
    ")\n",
    "\n",
    "# Create a data loader for testing\n",
    "test_loader = torch.utils.data.DataLoader(\n",
    "    test_dataset, batch_size=4, shuffle=False,\n",
    "    num_workers=0, collate_fn=collate_func, drop_last=False,\n",
    "    pin_memory=True,\n",
    ")\n"
   ]
  },
  {
   "cell_type": "markdown",
   "metadata": {},
   "source": [
    "## **Setting Up the Model for Inference**"
   ]
  },
  {
   "cell_type": "code",
   "execution_count": 32,
   "metadata": {},
   "outputs": [
    {
     "name": "stdout",
     "output_type": "stream",
     "text": [
      "cuda\n"
     ]
    }
   ],
   "source": [
    "if not torch.cuda.is_available():\n",
    "    device = torch.device(\"cpu\")\n",
    "else:\n",
    "    device = torch.device(\"cuda\")\n",
    "print(device)\n",
    "\n",
    "# attach cpu or gpu\n",
    "model = model.to(device)\n",
    "model = model.eval()\n",
    "model = model.half()\n",
    "torch.cuda.empty_cache()"
   ]
  },
  {
   "cell_type": "markdown",
   "metadata": {},
   "source": [
    "## **Performing Model Inference**"
   ]
  },
  {
   "cell_type": "code",
   "execution_count": 33,
   "metadata": {},
   "outputs": [
    {
     "name": "stderr",
     "output_type": "stream",
     "text": [
      "100%|██████████| 1/1 [00:00<00:00,  1.16it/s]\n"
     ]
    }
   ],
   "source": [
    "from tqdm import tqdm\n",
    "\n",
    "pred_sentence_list = []  # Initialize an empty list to store predicted sentences\n",
    "\n",
    "# Perform inference without gradient computation because we are not fine tuning so we don't want to change the weights\n",
    "with torch.no_grad():\n",
    "    for batch in tqdm(test_loader):  # Iterate through batches of test data\n",
    "        x = batch[\"input_values\"]  # Extract the input audio features from the batch\n",
    "        x = x.to(device, non_blocking=True)  # Move the input data to the device (GPU)\n",
    "        \n",
    "        # Use automatic mixed precision for faster and more memory-efficient inference\n",
    "        with torch.cuda.amp.autocast(True):\n",
    "            y = model(x).logits  # Get the model's output logits\n",
    "        del x\n",
    "        y = y.detach().cpu().numpy()  # Move the logits to the CPU and convert to a numpy array\n",
    "        \n",
    "        for l in y:  # Iterate through the logits of the batch\n",
    "            # Decode the logits into a sentence using the LM with beam search decoding\n",
    "            sentence = processor_with_lm.decode(l, beam_width=64).text\n",
    "            pred_sentence_list.append(sentence)  # Append the predicted sentence to the list\n"
   ]
  },
  {
   "cell_type": "markdown",
   "metadata": {},
   "source": [
    "## **Postprocessing Predicted Sentences**"
   ]
  },
  {
   "cell_type": "code",
   "execution_count": 34,
   "metadata": {},
   "outputs": [],
   "source": [
    "bnorm = Normalizer()  # Create a Normalizer object for text normalization\n",
    "\n",
    "def postprocess(sentence):\n",
    "    # Define a postprocessing function to clean up and format predicted sentences\n",
    "    \n",
    "    period_set = set([\".\", \"?\", \"!\", \"।\"])  # Set of sentence-ending punctuation\n",
    "    \n",
    "    # Split the sentence into words and apply normalization using the Normalizer\n",
    "    _words = [bnorm(word)['normalized'] for word in sentence.split() if word]\n",
    "    \n",
    "    sentence = \" \".join(_words)\n",
    "    \n",
    "    if not sentence.endswith(tuple(period_set)):\n",
    "        sentence += \"।\"\n",
    "    return sentence\n"
   ]
  },
  {
   "cell_type": "code",
   "execution_count": 35,
   "metadata": {},
   "outputs": [
    {
     "name": "stderr",
     "output_type": "stream",
     "text": [
      "100%|██████████| 3/3 [00:00<00:00, 460.68it/s]\n"
     ]
    }
   ],
   "source": [
    "pp_pred_sentence_list = [\n",
    "    postprocess(s) for s in tqdm(pred_sentence_list)]"
   ]
  },
  {
   "cell_type": "code",
   "execution_count": 50,
   "metadata": {},
   "outputs": [
    {
     "name": "stdout",
     "output_type": "stream",
     "text": [
      "Recording...\n",
      "Recording finished\n",
      "Recognized Text: আমি আমি যদি কথা বলি এখানে আসবে\n"
     ]
    }
   ],
   "source": [
    "import sounddevice as sd\n",
    "import numpy as np\n",
    "import torch\n",
    "\n",
    "# Function to record audio from the microphone\n",
    "def record_audio(duration=5, fs=16000):\n",
    "    print(\"Recording...\")\n",
    "    recording = sd.rec(int(duration * fs), samplerate=fs, channels=1)\n",
    "    sd.wait()  # Wait until recording is finished\n",
    "    print(\"Recording finished\")\n",
    "    return recording.flatten()\n",
    "\n",
    "# Function to make predictions from audio\n",
    "def recognize_speech(model, processor, audio, device):\n",
    "    # Preprocess the audio to model's expected format\n",
    "    input_values = processor(audio, sampling_rate=16000, return_tensors=\"pt\").input_values\n",
    "    input_values = input_values.to(device)\n",
    "\n",
    "    # Convert input_values to the same dtype as model (half precision)\n",
    "    input_values = input_values.half()\n",
    "\n",
    "    # Perform inference with the model\n",
    "    with torch.no_grad():\n",
    "        logits = model(input_values).logits\n",
    "\n",
    "    # Ensure logits are two-dimensional (time, vocabulary)\n",
    "    if len(logits.shape) == 1:\n",
    "        logits = logits.unsqueeze(0)\n",
    "\n",
    "    # Convert logits to numpy array\n",
    "    logits = logits.cpu().numpy()\n",
    "\n",
    "    # Decode the logits to text using the processor's decode method\n",
    "    # Extract only the 'text' attribute from the output\n",
    "    transcription = processor.decode(logits[0]).text\n",
    "    return transcription\n",
    "\n",
    "\n",
    "# Record audio from microphone\n",
    "audio_data = record_audio(duration=5)\n",
    "\n",
    "# Recognize speech\n",
    "transcription = recognize_speech(model, processor_with_lm, audio_data, device)\n",
    "print(\"Recognized Text:\", transcription)\n",
    "\n"
   ]
  },
  {
   "cell_type": "markdown",
   "metadata": {},
   "source": [
    "<div style=\"text-align: center;\">\n",
    "    <span style=\"font-size:50px;\"><b>Understanding and Responding</b></span>\n",
    "</div>\n"
   ]
  },
  {
   "cell_type": "markdown",
   "metadata": {},
   "source": [
    "## **Clearing GPU Cache**"
   ]
  },
  {
   "cell_type": "code",
   "execution_count": null,
   "metadata": {},
   "outputs": [],
   "source": [
    "import torch\n",
    "torch.cuda.empty_cache()"
   ]
  },
  {
   "cell_type": "markdown",
   "metadata": {},
   "source": [
    "## **Data Loading and Preprocessing**"
   ]
  },
  {
   "cell_type": "code",
   "execution_count": null,
   "metadata": {},
   "outputs": [],
   "source": [
    "import pandas as pd\n",
    "\n",
    "# Load\n",
    "df = pd.read_csv(\"E:/Studies/11th Semester/425/Project/train.csv\")\n",
    "\n",
    "# Preprocess\n",
    "df['text'] = df['context'] + \"\\n\" + df['reply']\n",
    "df['text'].to_csv(\"E:/Studies/11th Semester/425/Project/train.txt\", index=False, header=False)"
   ]
  },
  {
   "cell_type": "markdown",
   "metadata": {},
   "source": [
    "## **Setting Up Language Model for Fine-Tuning**"
   ]
  },
  {
   "cell_type": "code",
   "execution_count": null,
   "metadata": {},
   "outputs": [],
   "source": [
    "import pandas as pd\n",
    "from transformers import GPT2LMHeadModel, PreTrainedTokenizerFast\n",
    "from transformers import TextDataset, DataCollatorForLanguageModeling\n",
    "import torch\n",
    "from torch.utils.data import DataLoader\n",
    "from tqdm.auto import tqdm\n",
    "import warnings\n",
    "\n",
    "warnings.filterwarnings('ignore')"
   ]
  },
  {
   "cell_type": "code",
   "execution_count": null,
   "metadata": {},
   "outputs": [],
   "source": [
    "local_model_path = \"D:\\\\fall 23\\\\cse425\\\\425 project\\\\gpt2-bengali\"\n",
    "\n",
    "tokenizer = PreTrainedTokenizerFast(tokenizer_file=f\"{local_model_path}/tokenizer.json\")\n",
    "model = GPT2LMHeadModel.from_pretrained(local_model_path)"
   ]
  },
  {
   "cell_type": "code",
   "execution_count": null,
   "metadata": {},
   "outputs": [],
   "source": [
    "train_dataset = TextDataset(\n",
    "    tokenizer=tokenizer,\n",
    "    file_path=\"E:\\\\Studies\\\\11th Semester\\\\425\\\\Project\\\\train.txt\",\n",
    "    block_size=128\n",
    ")\n",
    "\n",
    "data_collator = DataCollatorForLanguageModeling(\n",
    "    tokenizer=tokenizer, mlm=False\n",
    ")"
   ]
  },
  {
   "cell_type": "code",
   "execution_count": null,
   "metadata": {},
   "outputs": [],
   "source": [
    "train_loader = DataLoader(train_dataset, batch_size=4, shuffle=True)\n",
    "\n",
    "device = torch.device(\"cuda\" if torch.cuda.is_available() else \"cpu\")\n",
    "model.to(device)"
   ]
  },
  {
   "cell_type": "markdown",
   "metadata": {},
   "source": [
    "## **Model Training Loop**"
   ]
  },
  {
   "cell_type": "code",
   "execution_count": null,
   "metadata": {},
   "outputs": [],
   "source": [
    "optimizer = torch.optim.AdamW(model.parameters(), lr=5e-5)\n",
    "model.train()\n",
    "for epoch in range(5):\n",
    "    progress_bar = tqdm(train_loader, desc=f\"Epoch {epoch + 1}\", leave=False)\n",
    "    for batch in progress_bar:\n",
    "        inputs = batch[0].to(device)  # batch is a list with a single tensor\n",
    "        labels = inputs\n",
    "\n",
    "        outputs = model(inputs, labels=labels)\n",
    "        loss = outputs.loss\n",
    "\n",
    "        optimizer.zero_grad()\n",
    "        loss.backward()\n",
    "        optimizer.step()\n",
    "\n",
    "        # Update the progress bar with the loss value\n",
    "        progress_bar.set_postfix({'loss': loss.item()})"
   ]
  },
  {
   "cell_type": "markdown",
   "metadata": {},
   "source": [
    "## **Saving the Fine-Tuned Model**"
   ]
  },
  {
   "cell_type": "code",
   "execution_count": null,
   "metadata": {},
   "outputs": [],
   "source": [
    "model.save_pretrained(\"./gpt2-bengali-finetuned-final\")\n"
   ]
  },
  {
   "cell_type": "markdown",
   "metadata": {},
   "source": [
    "## **Setting Up an Interactive Voice Bot**"
   ]
  },
  {
   "cell_type": "code",
   "execution_count": null,
   "metadata": {},
   "outputs": [],
   "source": [
    "import sounddevice as sd\n",
    "import torch\n",
    "from transformers import Wav2Vec2ForCTC, Wav2Vec2Processor, GPT2LMHeadModel, PreTrainedTokenizerFast\n",
    "from normalizer import normalize\n",
    "import logging\n",
    "from transformers import logging as hf_logging\n",
    "import warnings\n",
    "# from transformers import LogitsProcessorList, MinLengthLogitsProcessor, RepetitionPenaltyLogitsProcessor\n",
    "\n",
    "# Suppress warnings from sounddevice\n",
    "warnings.filterwarnings(action='ignore')\n",
    "\n",
    "# Suppress certain warnings from transformers\n",
    "hf_logging.set_verbosity_error()\n",
    "\n",
    "# Suppress other warnings (like those from loading models)\n",
    "logging.getLogger(\"transformers\").setLevel(logging.ERROR)\n",
    "\n",
    "# Function to record audio from the microphone\n",
    "def record_audio(duration=5, fs=16000):\n",
    "    print(\"Recording...\")\n",
    "    recording = sd.rec(int(duration * fs), samplerate=fs, channels=1)\n",
    "    sd.wait()  # Wait until recording is finished\n",
    "    print(\"Recording finished\")\n",
    "    return recording.flatten()\n",
    "\n",
    "# Function to recognize speech using Wav2Vec2\n",
    "def recognize_speech(model, processor, audio, device):\n",
    "    input_values = processor(audio, sampling_rate=16000, return_tensors=\"pt\").input_values\n",
    "    input_values = input_values.to(device)\n",
    "\n",
    "    with torch.no_grad():\n",
    "        logits = model(input_values).logits\n",
    "\n",
    "    if len(logits.shape) == 1:\n",
    "        logits = logits.unsqueeze(0)\n",
    "\n",
    "    predicted_ids = torch.argmax(logits, dim=-1)\n",
    "    transcription = processor.decode(predicted_ids[0], skip_special_tokens=True)\n",
    "    return transcription\n",
    "\n",
    "# Function to generate a response\n",
    "def generate_response(input_text, model, tokenizer, device):\n",
    "    if not input_text.strip():  # Check for empty string\n",
    "        return \"No input provided.\"\n",
    "\n",
    "    # Ensure \"।\" is in the tokenizer's vocabulary\n",
    "    if \"।\" not in tokenizer.get_vocab():\n",
    "        tokenizer.add_special_tokens({'additional_special_tokens': [\"।\"]})\n",
    "        model.resize_token_embeddings(len(tokenizer))  # Resize model embeddings to fit the new token\n",
    "\n",
    "    inputs = tokenizer(input_text, return_tensors=\"pt\", padding=True)\n",
    "    input_ids = inputs.input_ids.to(device)\n",
    "    attention_mask = inputs.attention_mask.to(device)\n",
    "\n",
    "    # Set \"।\" as the eos_token_id for generation\n",
    "    eos_token_id = tokenizer.convert_tokens_to_ids(\"।\")\n",
    "\n",
    "    # Decoding settings\n",
    "    generation_parameters = {\n",
    "    \"max_length\": 128,  # Sets the maximum length of the sequence to be generated. Limits how long the response can be.\n",
    "    \"temperature\": 0.7,  # Controls the randomness of predictions by scaling the logits before applying softmax. Lower values make the model more confident in its top choices, while higher values increase randomness.\n",
    "    \"num_beams\": 3,  # Number of beams to use in beam search. Beam search is a heuristic search algorithm that explores a graph by expanding the most promising node in a limited set. More beams increase the chances of finding a more accurate prediction but at the cost of more computation.\n",
    "    \"no_repeat_ngram_size\": 2,  # Ensures that no n-gram (in this case, a 2-gram) appears more than once. Helps prevent repetitive text.\n",
    "    \"early_stopping\": True,  # If True, generation is stopped as soon as all beam candidates have reached the EOS token. This can speed up generation but might result in shorter outputs.\n",
    "    \"attention_mask\": attention_mask,  # The attention mask that was applied to the inputs. It makes sure that the model only attends to relevant portions of the input sequence.\n",
    "    \"eos_token_id\": eos_token_id,  # Specifies the token that represents the end of a sentence, helping the model understand where to stop generating further text.\n",
    "    \"num_return_sequences\": 1,  # The number of sequences to return. Here, it's set to 1, meaning the model will return the best sequence it finds.\n",
    "}\n",
    "\n",
    "\n",
    "    with torch.no_grad():\n",
    "        output_ids = model.generate(input_ids, **generation_parameters)\n",
    "\n",
    "    response = tokenizer.decode(output_ids[0], skip_special_tokens=True)\n",
    "\n",
    "    # Find the first occurrence of \"।\" and cut off the rest\n",
    "    end_idx = response.find(\"।\")\n",
    "    if end_idx != -1:\n",
    "        response = response[:end_idx + 1]\n",
    "\n",
    "    # Remove any unwanted characters\n",
    "    response = response.replace(\"?\", \"\").strip()\n",
    "\n",
    "    # Remove any part of the response that repeats the input\n",
    "    if input_text in response:\n",
    "        response = response.replace(input_text, '').strip()\n",
    "\n",
    "    return response\n",
    "\n",
    "\n",
    "# Load the Wav2Vec2 model and processor\n",
    "wav2vec2_model_path = r\"E:\\\\Studies\\\\11th Semester\\\\425\\\\Project\\\\Dataset\\\\Wav2Vec2\\\\indicwav2vec_v1_bengali\"\n",
    "wav2vec2_model = Wav2Vec2ForCTC.from_pretrained(wav2vec2_model_path)\n",
    "wav2vec2_processor = Wav2Vec2Processor.from_pretrained(wav2vec2_model_path)\n",
    "\n",
    "# Load your fine-tuned GPT-2 Bengali model\n",
    "gpt2_model_path = \"E:\\\\Studies\\\\11th Semester\\\\425\\\\Project\\\\gpt2-bengali-finetuned-final\"\n",
    "gpt2_tokenizer = PreTrainedTokenizerFast(tokenizer_file=f\"{gpt2_model_path}/tokenizer.json\")\n",
    "\n",
    "\n",
    "# Set padding token to EOS token\n",
    "# If your tokenizer does not have an EOS token, you'll need to add a new special token for padding\n",
    "if gpt2_tokenizer.eos_token is None:\n",
    "    gpt2_tokenizer.add_special_tokens({'eos_token': '[EOS]'})\n",
    "gpt2_tokenizer.pad_token = gpt2_tokenizer.eos_token\n",
    "\n",
    "# Ensure the model's config pad token id is set\n",
    "gpt2_model = GPT2LMHeadModel.from_pretrained(gpt2_model_path)\n",
    "gpt2_model.config.pad_token_id = gpt2_tokenizer.eos_token_id\n",
    "\n",
    "\n",
    "# Set the device\n",
    "device = torch.device(\"cuda\" if torch.cuda.is_available() else \"cpu\")\n",
    "wav2vec2_model.to(device)\n",
    "gpt2_model.to(device)\n",
    "\n",
    "# Start the conversation loop\n",
    "print(\"The Voice Bot is ready to talk! Press Ctrl+C to end the conversation.\")\n",
    "\n",
    "try:\n",
    "    while True:\n",
    "        audio_data = record_audio(duration=5)\n",
    "        if audio_data is not None and audio_data.size > 0:\n",
    "            transcription = recognize_speech(wav2vec2_model, wav2vec2_processor, audio_data, device)\n",
    "            print(f\"You: {transcription}\")\n",
    "            response = generate_response(transcription, gpt2_model, gpt2_tokenizer, device)\n",
    "            print(f\"Bot: {response}\")\n",
    "        else:\n",
    "            print(\"No audio detected.\")\n",
    "\n",
    "except KeyboardInterrupt:\n",
    "    print(\"\\nConversation ended.\")"
   ]
  }
 ],
 "metadata": {
  "kernelspec": {
   "display_name": "nnproject",
   "language": "python",
   "name": "python3"
  },
  "language_info": {
   "codemirror_mode": {
    "name": "ipython",
    "version": 3
   },
   "file_extension": ".py",
   "mimetype": "text/x-python",
   "name": "python",
   "nbconvert_exporter": "python",
   "pygments_lexer": "ipython3",
   "version": "3.9.18"
  }
 },
 "nbformat": 4,
 "nbformat_minor": 2
}
